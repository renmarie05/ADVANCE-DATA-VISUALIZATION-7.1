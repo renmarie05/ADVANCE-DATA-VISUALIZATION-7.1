{
  "nbformat": 4,
  "nbformat_minor": 0,
  "metadata": {
    "colab": {
      "provenance": [],
      "authorship_tag": "ABX9TyNdBRTvC0n5WBQTdaXdSG75",
      "include_colab_link": true
    },
    "kernelspec": {
      "name": "python3",
      "display_name": "Python 3"
    },
    "language_info": {
      "name": "python"
    }
  },
  "cells": [
    {
      "cell_type": "markdown",
      "metadata": {
        "id": "view-in-github",
        "colab_type": "text"
      },
      "source": [
        "<a href=\"https://colab.research.google.com/github/renmarie05/ADVANCE-DATA-VISUALIZATION-7.1/blob/main/ADVANCE_DATA_VISUALIZATION_7_1.ipynb\" target=\"_parent\"><img src=\"https://colab.research.google.com/assets/colab-badge.svg\" alt=\"Open In Colab\"/></a>"
      ]
    },
    {
      "cell_type": "code",
      "execution_count": 3,
      "metadata": {
        "colab": {
          "base_uri": "https://localhost:8080/"
        },
        "id": "iiWoUnNdpkYY",
        "outputId": "099d0890-6c6b-4f12-f0a1-1fb04982d298"
      },
      "outputs": [
        {
          "output_type": "stream",
          "name": "stdout",
          "text": [
            "What is the temperature outside?:27\n",
            "the temperatureis good today\n",
            "can go outside\n"
          ]
        }
      ],
      "source": [
        "temp = int(input(\"What is the temperature outside?:\"))\n",
        "\n",
        "if temp >=0 and temp <=30:\n",
        "  print(\"the temperatureis good today\")\n",
        "  print(\"can go outside\")"
      ]
    },
    {
      "cell_type": "code",
      "source": [
        "temp = int(input(\"What is the temperature outside?:\"))\n",
        "\n",
        "if temp >= 0 and temp<=30:\n",
        "  print(\"the temperature is good today\")\n",
        "  print(\"can go outside!\")\n",
        "elif temp < 0 or temp > 30:\n",
        "  print(\"the temperatureis bad today!\")\n",
        "  print(\"you must stay inside!\")"
      ],
      "metadata": {
        "colab": {
          "base_uri": "https://localhost:8080/"
        },
        "id": "_z_Ao2EppsdE",
        "outputId": "d8843302-ce59-4c75-a14a-feb98e1cfe32"
      },
      "execution_count": 2,
      "outputs": [
        {
          "output_type": "stream",
          "name": "stdout",
          "text": [
            "What is the temperature outside?:27\n",
            "the temperature is good today\n",
            "can go outside!\n"
          ]
        }
      ]
    }
  ]
}